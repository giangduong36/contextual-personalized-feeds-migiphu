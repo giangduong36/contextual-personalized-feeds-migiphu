{
 "cells": [
  {
   "cell_type": "code",
   "execution_count": 416,
   "metadata": {},
   "outputs": [],
   "source": [
    "# Import packages\n",
    "from sklearn.feature_extraction.text import TfidfVectorizer\n",
    "from sklearn.metrics.pairwise import linear_kernel, cosine_similarity\n",
    "from scipy.sparse import dok_matrix, csr_matrix\n",
    "from gensim.models.doc2vec import TaggedDocument\n",
    "from gensim.models import Doc2Vec\n",
    "from nltk import RegexpTokenizer\n",
    "from nltk.corpus import stopwords\n",
    "from nltk.stem.wordnet import WordNetLemmatizer\n",
    "import re\n",
    "import pandas as pd\n",
    "import numpy as np\n",
    "import time"
   ]
  },
  {
   "cell_type": "markdown",
   "metadata": {},
   "source": [
    "Tf-idf\n",
    "-----"
   ]
  },
  {
   "cell_type": "code",
   "execution_count": 418,
   "metadata": {},
   "outputs": [],
   "source": [
    "# Get top 9 articles\n",
    "def find_most_similar_posts_tfidf(df, k=3):\n",
    "    tfidf = TfidfVectorizer().fit_transform(df['message'])\n",
    "    similar = []\n",
    "    similar_scores = []\n",
    "    for i in range(0, df.shape[0]):\n",
    "        cosine_similarities = linear_kernel(tfidf[i:i + 1], tfidf).flatten()\n",
    "        sim_ids = cosine_similarities.argsort()[-2:-(2 + k):-1]  # The the k most similar posts\n",
    "        sim = cosine_similarities[sim_ids]\n",
    "        rec_posts = []\n",
    "        for sim_index in sim_ids:\n",
    "            postid = df.iloc[sim_index]['post_id']\n",
    "            rec_posts.append(postid)\n",
    "        similar.append(rec_posts)\n",
    "        similar_scores.append(sim)\n",
    "    df['most_similar'] = similar\n",
    "    df['most_similar_rating'] = similar_scores\n",
    "    df.to_csv(path_or_buf='data/fb_news_posts_20K_tfidf.csv',\n",
    "              index=False,\n",
    "              columns=['post_id', 'most_similar', 'most_similar_rating'])\n",
    "\n",
    "    return (0)"
   ]
  },
  {
   "cell_type": "markdown",
   "metadata": {},
   "source": [
    "Item-item Filtering\n",
    "------------------"
   ]
  },
  {
   "cell_type": "code",
   "execution_count": 421,
   "metadata": {},
   "outputs": [],
   "source": [
    "def find_most_similar_posts_collabfilter(comments, k=9):\n",
    "    user_post = comments[['from_id', 'post_id']]\n",
    "    user_post.drop_duplicates(inplace=True)\n",
    "    unique_users = user_post.from_id.drop_duplicates().values\n",
    "    unique_posts = user_post.post_id.drop_duplicates().values\n",
    "    users_map = dict(zip(unique_users, range(len(unique_users))))\n",
    "    posts_map = dict(zip(unique_posts, range(len(unique_posts))))\n",
    "    user_all_posts = user_post.groupby('from_id')['post_id'].apply(list).reset_index()\n",
    "    \n",
    "    item_matrix = dok_matrix((len(unique_users), len(unique_posts)), dtype=np.float32)\n",
    "    for l in range(user_all_posts.shape[0]):\n",
    "        i = users_map[user_all_posts.iloc[l].from_id]\n",
    "        posts = user_all_posts.iloc[l].post_id\n",
    "        for post in posts:\n",
    "            j = posts_map[post]\n",
    "            item_matrix[i, j] = 1\n",
    "    \n",
    "    cosine_sim = cosine_similarity(item_matrix.transpose())\n",
    "    \n",
    "    similar_posts = []\n",
    "    similar_rating = []\n",
    "    for l in range(cosine_sim.shape[0]):\n",
    "        source_sim = cosine_sim[l,:]\n",
    "        sim_ids = np.argpartition(source_sim, -k)[-k:]\n",
    "        sim = source_sim[sim_ids]\n",
    "        sim_posts = [unique_posts[d] for d in sim_ids]\n",
    "        similar_posts.append(sim_posts)\n",
    "        similar_rating.append(sim)\n",
    "    \n",
    "    df = pd.DataFrame(data = {'post_id': unique_posts,\n",
    "                             'most_similar': similar_posts,\n",
    "                             'most_similar_rating': similar_rating})\n",
    "    df.to_csv(path_or_buf='data/fb_news_posts_20K_cf.csv',\n",
    "              index=False)\n",
    "    return (df)"
   ]
  },
  {
   "cell_type": "code",
   "execution_count": 424,
   "metadata": {},
   "outputs": [],
   "source": [
    "def find_most_similar_doc(df, model):\n",
    "    similar = []\n",
    "    for i in range(0, df.shape[0]):\n",
    "        sim_index = model.docvecs.most_similar([model.docvecs[i]])[1][0]\n",
    "        postid = df.iloc[sim_index]['post_id']\n",
    "        similar.append(postid)\n",
    "    df['most_similar'] = similar\n",
    "    return df"
   ]
  },
  {
   "cell_type": "markdown",
   "metadata": {},
   "source": [
    "Time Operations\n",
    "-----------------"
   ]
  },
  {
   "cell_type": "code",
   "execution_count": null,
   "metadata": {},
   "outputs": [],
   "source": [
    "data = pd.read_csv('../data/fb_news_posts_20K.csv')[['post_id', 'message']]\n",
    "data.fillna('', inplace=True)\n",
    "model = Doc2Vec.load(\"../recsys/recommender/d2v.model\")"
   ]
  },
  {
   "cell_type": "code",
   "execution_count": null,
   "metadata": {},
   "outputs": [],
   "source": [
    "comments = pd.read_csv(\"../data/fb_news_comments_1000k_cleaned.csv\")"
   ]
  },
  {
   "cell_type": "code",
   "execution_count": 425,
   "metadata": {},
   "outputs": [],
   "source": [
    "cf_time = []\n",
    "tfidf_time = []\n",
    "doc2vec_time = []"
   ]
  },
  {
   "cell_type": "code",
   "execution_count": 426,
   "metadata": {
    "scrolled": true
   },
   "outputs": [
    {
     "name": "stderr",
     "output_type": "stream",
     "text": [
      "/home/phuc/miniconda3/lib/python3.6/site-packages/ipykernel_launcher.py:3: SettingWithCopyWarning: \n",
      "A value is trying to be set on a copy of a slice from a DataFrame\n",
      "\n",
      "See the caveats in the documentation: http://pandas.pydata.org/pandas-docs/stable/indexing.html#indexing-view-versus-copy\n",
      "  This is separate from the ipykernel package so we can avoid doing imports until\n"
     ]
    }
   ],
   "source": [
    "n = 5\n",
    "for i in range(n):\n",
    "    start = time.time()\n",
    "    df = find_most_similar_posts_tfidf(data, k=9)\n",
    "    end = time.time()\n",
    "    tfidf_time.append(end - start)\n",
    "    \n",
    "for i in range(n):\n",
    "    start = time.time()\n",
    "    df = find_most_similar_doc(data, model)\n",
    "    end = time.time()\n",
    "    doc2vec_time.append(end - start)\n",
    "    \n",
    "for i in range(n):\n",
    "    start = time.time()\n",
    "    df = find_most_similar_posts_collabfilter(comments, k=9)\n",
    "    end = time.time()\n",
    "    cf_time.append(end - start)"
   ]
  },
  {
   "cell_type": "code",
   "execution_count": 429,
   "metadata": {},
   "outputs": [
    {
     "data": {
      "text/plain": [
       "[183.93240308761597,\n",
       " 174.82519268989563,\n",
       " 176.4416947364807,\n",
       " 170.8476643562317,\n",
       " 170.04332041740417]"
      ]
     },
     "execution_count": 429,
     "metadata": {},
     "output_type": "execute_result"
    }
   ],
   "source": [
    "cf_time"
   ]
  },
  {
   "cell_type": "code",
   "execution_count": 430,
   "metadata": {
    "scrolled": true
   },
   "outputs": [
    {
     "data": {
      "image/png": "[encoded data removed]",
      "text/plain": [
       "<Figure size 432x288 with 1 Axes>"
      ]
     },
     "metadata": {},
     "output_type": "display_data"
    }
   ],
   "source": [
    "times = [doc2vec_time, tfidf_time, cf_time]\n",
    "means = np.mean(times, axis=1)\n",
    "sd = np.std(times, axis=1)\n",
    "plt.bar(np.arange(3), means, yerr=sd)\n",
    "plt.xticks(np.arange(3), ('doc2vec', 'tf-idf', 'collaborative filter'))\n",
    "plt.ylabel('Time (sec)')\n",
    "plt.title('Time elapsed to produce recommendations')\n",
    "plt.savefig('time_elapsed_base_alg.png')"
   ]
  },
  {
   "cell_type": "code",
   "execution_count": 431,
   "metadata": {},
   "outputs": [],
   "source": [
    "np.save(\"data/time_elapsed\", times)"
   ]
  },
  {
   "cell_type": "markdown",
   "metadata": {},
   "source": [
    "Recall and Precision at K=9\n",
    "----"
   ]
  },
  {
   "cell_type": "code",
   "execution_count": 288,
   "metadata": {},
   "outputs": [],
   "source": [
    "def split_id(val):\n",
    "    return(re.sub(\"[^_,\\d]\", \"\", val).split(\",\"))\n",
    "\n",
    "def split_rating(val, sep=\",\"):\n",
    "    if sep == \" \":\n",
    "        patterns = \"[\\[\\]]\"\n",
    "        string_rating = re.sub(patterns, \"\", val).split()\n",
    "    else:\n",
    "        patterns = \"[^.,\\d]\"\n",
    "        string_rating = re.sub(patterns, \"\", val).split(\",\")\n",
    "    float_rating = [float(r) for r in string_rating]\n",
    "    return(float_rating)\n",
    "\n",
    "def format_similarity(df, sep=\",\"): #split string to post_id's and similarities\n",
    "    df['most_similar'] = df.most_similar.apply(split_id)    \n",
    "    df['most_similar_rating'] = df.most_similar_rating.apply(split_rating, sep=sep)\n",
    "    return(df)"
   ]
  },
  {
   "cell_type": "code",
   "execution_count": 398,
   "metadata": {},
   "outputs": [],
   "source": [
    "def is_in_top_k(test_case, rec, train_set, k=9):\n",
    "    user = test_case[0]\n",
    "    truth = test_case[1]\n",
    "    user_old_posts = train_set.loc[user]\n",
    "    recs = rec[rec.post_id.isin(user_old_posts)].most_similar.values.tolist()\n",
    "    recs = np.array([np.array(sublist) for sublist in recs]).flatten()\n",
    "    recs_rating = rec[rec.post_id.isin(user_old_posts)].most_similar_rating.values.tolist()\n",
    "    recs_rating = np.array([np.array(sublist) for sublist in recs_rating]).flatten()\n",
    "    top_k_indx = np.argpartition(recs_rating, -k)[-k:]\n",
    "    if truth in recs[top_k_indx]:\n",
    "        return 1\n",
    "    else:\n",
    "        return 0"
   ]
  },
  {
   "cell_type": "code",
   "execution_count": 29,
   "metadata": {},
   "outputs": [],
   "source": [
    "posts = pd.read_csv(\"../data/fb_news_posts_20K.csv\")\n",
    "comments = pd.read_csv(\"../data/fb_news_comments_1000k_cleaned.csv\")"
   ]
  },
  {
   "cell_type": "code",
   "execution_count": 397,
   "metadata": {},
   "outputs": [],
   "source": [
    "def main(comments):\n",
    "#     comments = pd.read_csv(\"../data/fb_news_comments_1000k_cleaned.csv\")\n",
    "    doc2vec = format_similarity(pd.read_csv(\"data/fb_news_posts_20K_doc2v.csv\"))\n",
    "    tfidf = format_similarity(pd.read_csv(\"data/fb_news_posts_20K_tfidf.csv\"), sep=\" \")\n",
    "    \n",
    "    n_fold = 5\n",
    "    test_prob = 1/n_fold\n",
    "    if n_fold == 1:\n",
    "        test_prob = 0.2\n",
    "    \n",
    "    # 5 fold cross validation\n",
    "    comments = comments.drop_duplicates(['from_id', 'post_id'])\n",
    "    users = comments.groupby('from_id').count().iloc[:, 0].reset_index() # created_time : number of post read\n",
    "    potential_test_users = users[users.created_time > 1]\n",
    "    test_set_size = np.int(test_prob*potential_test_users.shape[0])\n",
    "    \n",
    "    doc2vec_cv_recall = []\n",
    "    tfidf_cv_recall = []\n",
    "    cf_cv_recall = []\n",
    "    cv_recalls = [doc2vec_cv_recall, tfidf_cv_recall, cf_cv_recall]\n",
    "    \n",
    "    for n in range(n_fold):\n",
    "        \n",
    "        test_users = potential_test_users.iloc[(n*test_set_size): ((n+1)*test_set_size - 1), :]\n",
    "        test_set = pd.merge(test_users, comments.drop_duplicates('from_id'), on='from_id').loc[:,['from_id', 'post_id']]\n",
    "        \n",
    "        train_set = pd.merge(test_set, comments, on=['from_id','post_id'], how='outer', indicator=True)\n",
    "        train_set = train_set[train_set['_merge'] != 'both'].loc[:,['from_id',  'post_id']]\n",
    "        train_set_unique = train_set.groupby('from_id')['post_id'].apply(list)\n",
    "        \n",
    "        cf = find_most_similar_posts_collabfilter(train_set)\n",
    "        \n",
    "        recommenders = [doc2vec, tfidf, cf]\n",
    "        \n",
    "        # recommendation results\n",
    "        for m in range(3):        \n",
    "            r = test_set.apply(is_in_top_k, \n",
    "                              rec=recommenders[m], \n",
    "                              train_set=train_set_unique,\n",
    "                              axis=1)\n",
    "            cv_recalls[m].append(sum(r)/len(r))\n",
    "            \n",
    "    return( cv_recalls)"
   ]
  },
  {
   "cell_type": "code",
   "execution_count": 401,
   "metadata": {},
   "outputs": [],
   "source": [
    "cv_recalls = main(comments)"
   ]
  },
  {
   "cell_type": "code",
   "execution_count": 403,
   "metadata": {},
   "outputs": [],
   "source": [
    "np.save(\"cv_recalls\", cv_recalls)"
   ]
  },
  {
   "cell_type": "code",
   "execution_count": 414,
   "metadata": {},
   "outputs": [
    {
     "data": {
      "image/png": "[encoded data removed]",
      "text/plain": [
       "<Figure size 432x288 with 1 Axes>"
      ]
     },
     "metadata": {},
     "output_type": "display_data"
    }
   ],
   "source": [
    "import matplotlib.pyplot as plt\n",
    "means = np.mean(cv_recalls, axis=1)\n",
    "sd = np.std(cv_recalls, axis=1)\n",
    "plt.bar(np.arange(3), means, yerr=sd)\n",
    "plt.xticks(np.arange(3), ('doc2vec', 'tf-idf', 'collaborative filter'))\n",
    "plt.ylabel('Recall')\n",
    "plt.title('Five-fold cross-validated recall of different algorithms')\n",
    "plt.savefig('cv_recall_base_alg.png')"
   ]
  }
 ],
 "metadata": {
  "kernelspec": {
   "display_name": "Python 3",
   "language": "python",
   "name": "python3"
  },
  "language_info": {
   "codemirror_mode": {
    "name": "ipython",
    "version": 3
   },
   "file_extension": ".py",
   "mimetype": "text/x-python",
   "name": "python",
   "nbconvert_exporter": "python",
   "pygments_lexer": "ipython3",
   "version": "3.6.4"
  }
 },
 "nbformat": 4,
 "nbformat_minor": 2
}
